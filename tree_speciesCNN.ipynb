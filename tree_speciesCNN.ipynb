{
  "nbformat": 4,
  "nbformat_minor": 0,
  "metadata": {
    "colab": {
      "provenance": [],
      "authorship_tag": "ABX9TyMJRiu9Zn3XdyIIYBPt8QrL",
      "include_colab_link": true
    },
    "kernelspec": {
      "name": "python3",
      "display_name": "Python 3"
    },
    "language_info": {
      "name": "python"
    }
  },
  "cells": [
    {
      "cell_type": "markdown",
      "metadata": {
        "id": "view-in-github",
        "colab_type": "text"
      },
      "source": [
        "<a href=\"https://colab.research.google.com/github/Harshi86/WEEK-2-/blob/main/tree_speciesCNN.ipynb\" target=\"_parent\"><img src=\"https://colab.research.google.com/assets/colab-badge.svg\" alt=\"Open In Colab\"/></a>"
      ]
    },
    {
      "cell_type": "code",
      "source": [
        "!git clone https://github.com/Harshi86/WEEK-2-.git\n",
        "\n",
        "\n"
      ],
      "metadata": {
        "colab": {
          "base_uri": "https://localhost:8080/"
        },
        "id": "3XdLXYV82oHS",
        "outputId": "ad1e2576-39b0-42ad-8172-4e7edc9ec63f"
      },
      "execution_count": 10,
      "outputs": [
        {
          "output_type": "stream",
          "name": "stdout",
          "text": [
            "fatal: destination path 'WEEK-2-' already exists and is not an empty directory.\n"
          ]
        }
      ]
    },
    {
      "cell_type": "code",
      "metadata": {
        "colab": {
          "base_uri": "https://localhost:8080/"
        },
        "id": "a35fa19c",
        "outputId": "479a0b6d-95b0-4f24-f64e-ee0fda0c3414"
      },
      "source": [
        "import os\n",
        "\n",
        "repo_path = \"WEEK-2-\"  # Adjust if cloned to a different name\n",
        "print(\"Contents:\", os.listdir(repo_path))"
      ],
      "execution_count": 11,
      "outputs": [
        {
          "output_type": "stream",
          "name": "stdout",
          "text": [
            "Contents: ['5M_trees', '.gitattributes', 'README.md', 'tree_CNN.ipynb', '.git', 'Tree_Species_Dataset', '5M_trees.ipynb']\n"
          ]
        }
      ]
    },
    {
      "cell_type": "code",
      "source": [
        "import os\n",
        "\n",
        "# Corrected path to access the directory in Google Drive\n",
        "repo_path = \"WEEK-2-/Tree_Species_Dataset\"\n",
        "print(\"Contents:\", os.listdir(repo_path))"
      ],
      "metadata": {
        "colab": {
          "base_uri": "https://localhost:8080/"
        },
        "id": "qlEU1Pvk44N9",
        "outputId": "60aa14e2-ac59-40e5-8b6d-99516e8e6d5c"
      },
      "execution_count": 12,
      "outputs": [
        {
          "output_type": "stream",
          "name": "stdout",
          "text": [
            "Contents: ['champa', 'bili', 'pipal', 'kesudo', 'shirish', 'bamboo', 'other', 'motichanoti', 'khajur', 'gunda', 'cactus', 'mango', 'gulmohor', 'jamun', 'banyan', 'saptaparni', 'neem', 'sonmahor', 'babul', 'pilikaren', 'asopalav', 'vad', 'nilgiri', 'kanchan', 'sitafal', 'sugarcane', 'simlo', 'garmalo', 'amla', 'coconut']\n"
          ]
        }
      ]
    },
    {
      "cell_type": "code",
      "metadata": {
        "colab": {
          "base_uri": "https://localhost:8080/"
        },
        "id": "2dae5f8b",
        "outputId": "966e5a91-91a9-4c35-f39e-fd8c467baac2"
      },
      "source": [
        "class_dirs = os.listdir(repo_path)\n",
        "print(f\"Number of classes: {len(class_dirs)}\")"
      ],
      "execution_count": 13,
      "outputs": [
        {
          "output_type": "stream",
          "name": "stdout",
          "text": [
            "Number of classes: 30\n"
          ]
        }
      ]
    },
    {
      "cell_type": "code",
      "source": [
        "import glob\n",
        "\n",
        "image_paths = []\n",
        "labels = []\n",
        "\n",
        "# Construct the path to the subdirectory containing the class directories\n",
        "# Assuming the actual dataset is in the first subdirectory listed\n",
        "sub_dirs = os.listdir(repo_path)\n",
        "if sub_dirs:\n",
        "    subdirectory_name = sub_dirs[0]\n",
        "    subdirectory_path = os.path.join(repo_path, subdirectory_name)\n",
        "\n",
        "    # Iterate through the actual class directories within the subdirectory\n",
        "    for class_name in os.listdir(subdirectory_path):\n",
        "        class_folder = os.path.join(subdirectory_path, class_name)\n",
        "        if os.path.isdir(class_folder) and not class_name.startswith('.'):\n",
        "            for img_file in os.listdir(class_folder):\n",
        "                # Construct the full image path\n",
        "                img_path = os.path.join(class_folder, img_file)\n",
        "                # Add the image path and label to the lists\n",
        "                image_paths.append(img_path)\n",
        "                labels.append(class_name)\n",
        "\n",
        "\n",
        "print(f\"Total images: {len(image_paths)}\")"
      ],
      "metadata": {
        "colab": {
          "base_uri": "https://localhost:8080/"
        },
        "id": "PR9U0Bj-9Xov",
        "outputId": "a9b53364-a89d-4f2d-99ec-9617b71e743c"
      },
      "execution_count": 14,
      "outputs": [
        {
          "output_type": "stream",
          "name": "stdout",
          "text": [
            "Total images: 0\n"
          ]
        }
      ]
    },
    {
      "cell_type": "code",
      "metadata": {
        "id": "3eb0427d",
        "colab": {
          "base_uri": "https://localhost:8080/",
          "height": 332
        },
        "outputId": "b8f8b726-b5e4-42ee-ddf2-453a7e4d70b6"
      },
      "source": [
        "import pandas as pd\n",
        "\n",
        "# Construct the path to the subdirectory containing the class directories\n",
        "# Assuming the actual dataset is in the first subdirectory listed\n",
        "sub_dirs = os.listdir(repo_path)\n",
        "if sub_dirs:\n",
        "    subdirectory_name = sub_dirs[0]\n",
        "    subdirectory_path = os.path.join(repo_path, subdirectory_name)\n",
        "\n",
        "    class_counts = {cls: len(os.listdir(os.path.join(subdirectory_path, cls))) for cls in class_dirs}\n",
        "    class_counts_df = pd.DataFrame.from_dict(class_counts, orient='index', columns=['Image Count'])\n",
        "    print(class_counts_df.sort_values('Image Count', ascending=False).head())\n",
        "    print(\"shape: \",class_counts_df.shape)\n",
        "else:\n",
        "    print(\"No subdirectories found in the repository path.\")"
      ],
      "execution_count": 15,
      "outputs": [
        {
          "output_type": "error",
          "ename": "FileNotFoundError",
          "evalue": "[Errno 2] No such file or directory: 'WEEK-2-/Tree_Species_Dataset/champa/champa'",
          "traceback": [
            "\u001b[0;31m---------------------------------------------------------------------------\u001b[0m",
            "\u001b[0;31mFileNotFoundError\u001b[0m                         Traceback (most recent call last)",
            "\u001b[0;32m/tmp/ipython-input-15-3596770222.py\u001b[0m in \u001b[0;36m<cell line: 0>\u001b[0;34m()\u001b[0m\n\u001b[1;32m      8\u001b[0m     \u001b[0msubdirectory_path\u001b[0m \u001b[0;34m=\u001b[0m \u001b[0mos\u001b[0m\u001b[0;34m.\u001b[0m\u001b[0mpath\u001b[0m\u001b[0;34m.\u001b[0m\u001b[0mjoin\u001b[0m\u001b[0;34m(\u001b[0m\u001b[0mrepo_path\u001b[0m\u001b[0;34m,\u001b[0m \u001b[0msubdirectory_name\u001b[0m\u001b[0;34m)\u001b[0m\u001b[0;34m\u001b[0m\u001b[0;34m\u001b[0m\u001b[0m\n\u001b[1;32m      9\u001b[0m \u001b[0;34m\u001b[0m\u001b[0m\n\u001b[0;32m---> 10\u001b[0;31m     \u001b[0mclass_counts\u001b[0m \u001b[0;34m=\u001b[0m \u001b[0;34m{\u001b[0m\u001b[0mcls\u001b[0m\u001b[0;34m:\u001b[0m \u001b[0mlen\u001b[0m\u001b[0;34m(\u001b[0m\u001b[0mos\u001b[0m\u001b[0;34m.\u001b[0m\u001b[0mlistdir\u001b[0m\u001b[0;34m(\u001b[0m\u001b[0mos\u001b[0m\u001b[0;34m.\u001b[0m\u001b[0mpath\u001b[0m\u001b[0;34m.\u001b[0m\u001b[0mjoin\u001b[0m\u001b[0;34m(\u001b[0m\u001b[0msubdirectory_path\u001b[0m\u001b[0;34m,\u001b[0m \u001b[0mcls\u001b[0m\u001b[0;34m)\u001b[0m\u001b[0;34m)\u001b[0m\u001b[0;34m)\u001b[0m \u001b[0;32mfor\u001b[0m \u001b[0mcls\u001b[0m \u001b[0;32min\u001b[0m \u001b[0mclass_dirs\u001b[0m\u001b[0;34m}\u001b[0m\u001b[0;34m\u001b[0m\u001b[0;34m\u001b[0m\u001b[0m\n\u001b[0m\u001b[1;32m     11\u001b[0m     \u001b[0mclass_counts_df\u001b[0m \u001b[0;34m=\u001b[0m \u001b[0mpd\u001b[0m\u001b[0;34m.\u001b[0m\u001b[0mDataFrame\u001b[0m\u001b[0;34m.\u001b[0m\u001b[0mfrom_dict\u001b[0m\u001b[0;34m(\u001b[0m\u001b[0mclass_counts\u001b[0m\u001b[0;34m,\u001b[0m \u001b[0morient\u001b[0m\u001b[0;34m=\u001b[0m\u001b[0;34m'index'\u001b[0m\u001b[0;34m,\u001b[0m \u001b[0mcolumns\u001b[0m\u001b[0;34m=\u001b[0m\u001b[0;34m[\u001b[0m\u001b[0;34m'Image Count'\u001b[0m\u001b[0;34m]\u001b[0m\u001b[0;34m)\u001b[0m\u001b[0;34m\u001b[0m\u001b[0;34m\u001b[0m\u001b[0m\n\u001b[1;32m     12\u001b[0m     \u001b[0mprint\u001b[0m\u001b[0;34m(\u001b[0m\u001b[0mclass_counts_df\u001b[0m\u001b[0;34m.\u001b[0m\u001b[0msort_values\u001b[0m\u001b[0;34m(\u001b[0m\u001b[0;34m'Image Count'\u001b[0m\u001b[0;34m,\u001b[0m \u001b[0mascending\u001b[0m\u001b[0;34m=\u001b[0m\u001b[0;32mFalse\u001b[0m\u001b[0;34m)\u001b[0m\u001b[0;34m.\u001b[0m\u001b[0mhead\u001b[0m\u001b[0;34m(\u001b[0m\u001b[0;34m)\u001b[0m\u001b[0;34m)\u001b[0m\u001b[0;34m\u001b[0m\u001b[0;34m\u001b[0m\u001b[0m\n",
            "\u001b[0;32m/tmp/ipython-input-15-3596770222.py\u001b[0m in \u001b[0;36m<dictcomp>\u001b[0;34m(.0)\u001b[0m\n\u001b[1;32m      8\u001b[0m     \u001b[0msubdirectory_path\u001b[0m \u001b[0;34m=\u001b[0m \u001b[0mos\u001b[0m\u001b[0;34m.\u001b[0m\u001b[0mpath\u001b[0m\u001b[0;34m.\u001b[0m\u001b[0mjoin\u001b[0m\u001b[0;34m(\u001b[0m\u001b[0mrepo_path\u001b[0m\u001b[0;34m,\u001b[0m \u001b[0msubdirectory_name\u001b[0m\u001b[0;34m)\u001b[0m\u001b[0;34m\u001b[0m\u001b[0;34m\u001b[0m\u001b[0m\n\u001b[1;32m      9\u001b[0m \u001b[0;34m\u001b[0m\u001b[0m\n\u001b[0;32m---> 10\u001b[0;31m     \u001b[0mclass_counts\u001b[0m \u001b[0;34m=\u001b[0m \u001b[0;34m{\u001b[0m\u001b[0mcls\u001b[0m\u001b[0;34m:\u001b[0m \u001b[0mlen\u001b[0m\u001b[0;34m(\u001b[0m\u001b[0mos\u001b[0m\u001b[0;34m.\u001b[0m\u001b[0mlistdir\u001b[0m\u001b[0;34m(\u001b[0m\u001b[0mos\u001b[0m\u001b[0;34m.\u001b[0m\u001b[0mpath\u001b[0m\u001b[0;34m.\u001b[0m\u001b[0mjoin\u001b[0m\u001b[0;34m(\u001b[0m\u001b[0msubdirectory_path\u001b[0m\u001b[0;34m,\u001b[0m \u001b[0mcls\u001b[0m\u001b[0;34m)\u001b[0m\u001b[0;34m)\u001b[0m\u001b[0;34m)\u001b[0m \u001b[0;32mfor\u001b[0m \u001b[0mcls\u001b[0m \u001b[0;32min\u001b[0m \u001b[0mclass_dirs\u001b[0m\u001b[0;34m}\u001b[0m\u001b[0;34m\u001b[0m\u001b[0;34m\u001b[0m\u001b[0m\n\u001b[0m\u001b[1;32m     11\u001b[0m     \u001b[0mclass_counts_df\u001b[0m \u001b[0;34m=\u001b[0m \u001b[0mpd\u001b[0m\u001b[0;34m.\u001b[0m\u001b[0mDataFrame\u001b[0m\u001b[0;34m.\u001b[0m\u001b[0mfrom_dict\u001b[0m\u001b[0;34m(\u001b[0m\u001b[0mclass_counts\u001b[0m\u001b[0;34m,\u001b[0m \u001b[0morient\u001b[0m\u001b[0;34m=\u001b[0m\u001b[0;34m'index'\u001b[0m\u001b[0;34m,\u001b[0m \u001b[0mcolumns\u001b[0m\u001b[0;34m=\u001b[0m\u001b[0;34m[\u001b[0m\u001b[0;34m'Image Count'\u001b[0m\u001b[0;34m]\u001b[0m\u001b[0;34m)\u001b[0m\u001b[0;34m\u001b[0m\u001b[0;34m\u001b[0m\u001b[0m\n\u001b[1;32m     12\u001b[0m     \u001b[0mprint\u001b[0m\u001b[0;34m(\u001b[0m\u001b[0mclass_counts_df\u001b[0m\u001b[0;34m.\u001b[0m\u001b[0msort_values\u001b[0m\u001b[0;34m(\u001b[0m\u001b[0;34m'Image Count'\u001b[0m\u001b[0;34m,\u001b[0m \u001b[0mascending\u001b[0m\u001b[0;34m=\u001b[0m\u001b[0;32mFalse\u001b[0m\u001b[0;34m)\u001b[0m\u001b[0;34m.\u001b[0m\u001b[0mhead\u001b[0m\u001b[0;34m(\u001b[0m\u001b[0;34m)\u001b[0m\u001b[0;34m)\u001b[0m\u001b[0;34m\u001b[0m\u001b[0;34m\u001b[0m\u001b[0m\n",
            "\u001b[0;31mFileNotFoundError\u001b[0m: [Errno 2] No such file or directory: 'WEEK-2-/Tree_Species_Dataset/champa/champa'"
          ]
        }
      ]
    },
    {
      "cell_type": "code",
      "metadata": {
        "id": "e4075587"
      },
      "source": [
        "!git clone https://github.com/kailas93/Tree-Species-Identification.git"
      ],
      "execution_count": null,
      "outputs": []
    },
    {
      "cell_type": "code",
      "metadata": {
        "id": "f27d52b0"
      },
      "source": [
        "import os\n",
        "\n",
        "cloned_repo_path = \"Tree-Species-Identification\"  # Assuming the repository is cloned to this directory name\n",
        "print(os.listdir(cloned_repo_path))"
      ],
      "execution_count": null,
      "outputs": []
    },
    {
      "cell_type": "code",
      "source": [
        "import matplotlib.pyplot as plt\n",
        "from PIL import Image\n",
        "import os\n",
        "\n",
        "def show_sample_images(repo_path, class_dirs, n=5):\n",
        "    plt.figure(figsize=(15, 10))\n",
        "    # Construct the path to the subdirectory containing the class directories\n",
        "    # Assuming the actual dataset is in the first subdirectory listed\n",
        "    sub_dirs = os.listdir(repo_path)\n",
        "    if sub_dirs:\n",
        "        subdirectory_name = sub_dirs[0]\n",
        "        subdirectory_path = os.path.join(repo_path, subdirectory_name)\n",
        "        for i, class_dir in enumerate(class_dirs[:n]):\n",
        "            class_folder_path = os.path.join(subdirectory_path, class_dir)\n",
        "            if os.path.isdir(class_folder_path) and os.listdir(class_folder_path): # Check if directory exists and is not empty\n",
        "                img_file = os.listdir(class_folder_path)[0]\n",
        "                img_path = os.path.join(class_folder_path, img_file)\n",
        "                img = Image.open(img_path)\n",
        "                plt.subplot(1, n, i+1)\n",
        "                plt.imshow(img)\n",
        "                plt.title(class_dir)\n",
        "                plt.axis('off')\n",
        "            else:\n",
        "                print(f\"Skipping empty or non-existent directory: {class_dir}\")\n",
        "        plt.show()\n",
        "    else:\n",
        "        print(\"No subdirectories found in the repository path.\")\n",
        "\n",
        "\n",
        "show_sample_images(repo_path, class_dirs)"
      ],
      "metadata": {
        "id": "1mwdPAaC-zdF"
      },
      "execution_count": null,
      "outputs": []
    },
    {
      "cell_type": "code",
      "source": [
        "image_data = []\n",
        "\n",
        "# Construct the path to the subdirectory containing the class directories\n",
        "# Assuming the actual dataset is in the first subdirectory listed\n",
        "sub_dirs = os.listdir(repo_path)\n",
        "if sub_dirs:\n",
        "    subdirectory_name = sub_dirs[0]\n",
        "    subdirectory_path = os.path.join(repo_path, subdirectory_name)\n",
        "\n",
        "    for class_dir in class_dirs:\n",
        "        class_folder_path = os.path.join(subdirectory_path, class_dir)\n",
        "        if os.path.isdir(class_folder_path): # Check if the path is a directory\n",
        "            for img_file in os.listdir(class_folder_path):\n",
        "                img_path = os.path.join(class_folder_path, img_file)\n",
        "                try:\n",
        "                    img = Image.open(img_path)\n",
        "                    image_data.append({'path': img_path, 'Width': img.size[0], 'Height': img.size[1]})\n",
        "                except Exception as e:\n",
        "                    print(f\"Could not open image {img_path}: {e}\")\n",
        "\n",
        "\n",
        "# DataFrame and Summary\n",
        "import pandas as pd\n",
        "\n",
        "if image_data:\n",
        "    shapes_df = pd.DataFrame(image_data)\n",
        "    display(shapes_df.head())\n",
        "    display(shapes_df.describe())\n",
        "else:\n",
        "    print(\"No image data was collected.\")"
      ],
      "metadata": {
        "id": "0GPg_QGL_DJ7"
      },
      "execution_count": null,
      "outputs": []
    },
    {
      "cell_type": "code",
      "source": [],
      "metadata": {
        "id": "ZopwLcj9BPJs"
      },
      "execution_count": null,
      "outputs": []
    },
    {
      "cell_type": "code",
      "source": [
        "corrupt_images = []\n",
        "\n",
        "# Construct the path to the subdirectory containing the class directories\n",
        "# Assuming the actual dataset is in the first subdirectory listed\n",
        "sub_dirs = os.listdir(repo_path)\n",
        "if sub_dirs:\n",
        "    subdirectory_name = sub_dirs[0]\n",
        "    subdirectory_path = os.path.join(repo_path, subdirectory_name)\n",
        "\n",
        "    for class_dir in class_dirs:\n",
        "        class_folder_path = os.path.join(subdirectory_path, class_dir)\n",
        "        if os.path.isdir(class_folder_path): # Check if the path is a directory\n",
        "            for img_file in os.listdir(class_folder_path):\n",
        "                img_path = os.path.join(class_folder_path, img_file)\n",
        "                try:\n",
        "                    img = Image.open(img_path)\n",
        "                    img.verify()\n",
        "                except Exception as e:\n",
        "                    corrupt_images.append(img_path)\n",
        "                    print(f\"Corrupt image found: {img_path} - {e}\")\n",
        "\n",
        "\n",
        "print(\"Corrupted images found:\", len(corrupt_images))"
      ],
      "metadata": {
        "id": "V1_ZjVxjBQup"
      },
      "execution_count": null,
      "outputs": []
    },
    {
      "cell_type": "code",
      "source": [
        "!git clone https://github.com/Harshi86/WEEK-2-.git\n",
        "\n",
        "import matplotlib.pyplot as plt\n",
        "from PIL import Image\n",
        "import os\n",
        "import pandas as pd\n",
        "\n",
        "repo_path = \"WEEK-2-/Tree_Species_Dataset\" # Ensure repo_path is defined\n",
        "\n",
        "# Recalculate sizes\n",
        "image_info = []\n",
        "\n",
        "# Construct the path to the subdirectory containing the class directories\n",
        "# Assuming the actual dataset is in the first subdirectory listed\n",
        "sub_dirs = os.listdir(repo_path)\n",
        "if sub_dirs:\n",
        "    subdirectory_name = sub_dirs[0]\n",
        "    subdirectory_path = os.path.join(repo_path, subdirectory_name)\n",
        "\n",
        "    for class_dir in os.listdir(subdirectory_path): # Iterate through actual directories in the subdirectory\n",
        "        class_path = os.path.join(subdirectory_path, class_dir)\n",
        "        if os.path.isdir(class_path): # Check if it's a directory\n",
        "            for img_file in os.listdir(class_path):\n",
        "                img_path = os.path.join(class_path, img_file)\n",
        "                try:\n",
        "                    with Image.open(img_path) as img:\n",
        "                        width, height = img.size\n",
        "                        image_info.append({\n",
        "                            'path': img_path,\n",
        "                            'width': width,\n",
        "                            'height': height,\n",
        "                            'class': class_dir\n",
        "                        })\n",
        "                except FileNotFoundError:\n",
        "                    print(f\"Skipping file not found: {img_path}\")\n",
        "                    continue\n",
        "                except Exception as e:\n",
        "                    print(f\"Could not process image {img_path}: {e}\")\n",
        "                    continue\n",
        "\n",
        "\n",
        "df_sizes = pd.DataFrame(image_info)\n",
        "if not df_sizes.empty:\n",
        "    print(df_sizes[['width', 'height']].describe())\n",
        "else:\n",
        "    print(\"No image data found to describe.\")\n",
        "\n",
        "\n",
        "def show_images(df_subset, title, n=5):\n",
        "    plt.figure(figsize=(15, 3))\n",
        "    for i, (_, row) in enumerate(df_subset.head(n).iterrows()):\n",
        "        img = Image.open(row['path'])\n",
        "        plt.subplot(1, n, i+1)\n",
        "        plt.imshow(img)\n",
        "        plt.title(f\"{row['width']}x{row['height']}\")\n",
        "        plt.axis('off')\n",
        "    plt.suptitle(title)\n",
        "    plt.show()\n",
        "\n",
        "# Define small and large images based on size (example thresholds)\n",
        "small_threshold = 200*200  # Example: images with area less than 40000 pixels\n",
        "large_threshold = 1000*1000 # Example: images with area greater than 1000000 pixels\n",
        "\n",
        "if not df_sizes.empty:\n",
        "    df_sizes['area'] = df_sizes['width'] * df_sizes['height']\n",
        "\n",
        "    small_imgs = df_sizes[df_sizes['area'] < small_threshold]\n",
        "    large_imgs = df_sizes[df_sizes['area'] > large_threshold]\n",
        "\n",
        "    show_images(small_imgs, \"Very Small Images\")\n",
        "    show_images(large_imgs, \"Very Large Images\")\n",
        "else:\n",
        "    print(\"No images to show.\")"
      ],
      "metadata": {
        "id": "_2olQVbcCAuk"
      },
      "execution_count": null,
      "outputs": []
    },
    {
      "cell_type": "code",
      "source": [
        "import os\n",
        "import pandas as pd\n",
        "\n",
        "if 'small_imgs' in locals() and 'large_imgs' in locals():\n",
        "    # Combine both sets\n",
        "    outliers = pd.concat([small_imgs, large_imgs])\n",
        "\n",
        "    # Remove them\n",
        "    removed_count = 0\n",
        "    for path in outliers['path']:\n",
        "        try:\n",
        "            os.remove(path)\n",
        "            removed_count += 1\n",
        "        except Exception as e:\n",
        "            print(f\"Failed to remove {path}: {e}\")\n",
        "\n",
        "    print(f\"🗑️ Removed {removed_count} outlier images (small + large).\")\n",
        "else:\n",
        "    print(\"No outlier images to remove.\")"
      ],
      "metadata": {
        "id": "Uj5dA07NC-sh"
      },
      "execution_count": null,
      "outputs": []
    },
    {
      "cell_type": "code",
      "source": [
        "# Recalculate sizes\n",
        "image_info = []\n",
        "\n",
        "# Construct the path to the subdirectory containing the class directories\n",
        "# Assuming the actual dataset is in the first subdirectory listed\n",
        "sub_dirs = os.listdir(repo_path)\n",
        "if sub_dirs:\n",
        "    subdirectory_name = sub_dirs[0]\n",
        "    subdirectory_path = os.path.join(repo_path, subdirectory_name)\n",
        "\n",
        "    for class_dir in os.listdir(subdirectory_path): # Iterate through actual directories in the subdirectory\n",
        "        class_path = os.path.join(subdirectory_path, class_dir)\n",
        "        if os.path.isdir(class_path): # Check if it's a directory\n",
        "            for img_file in os.listdir(class_path):\n",
        "                img_path = os.path.join(class_path, img_file)\n",
        "                try:\n",
        "                    with Image.open(img_path) as img:\n",
        "                        width, height = img.size\n",
        "                        image_info.append({\n",
        "                            'path': img_path,\n",
        "                            'width': width,\n",
        "                            'height': height,\n",
        "                            'class': class_dir\n",
        "                        })\n",
        "                except FileNotFoundError:\n",
        "                    print(f\"Skipping file not found: {img_path}\")\n",
        "                    continue\n",
        "                except Exception as e:\n",
        "                    print(f\"Could not process image {img_path}: {e}\")\n",
        "                    continue\n",
        "\n",
        "\n",
        "df_sizes = pd.DataFrame(image_info)\n",
        "if not df_sizes.empty:\n",
        "    print(df_sizes[['width', 'height']].describe())\n",
        "else:\n",
        "    print(\"No image data found to describe.\")"
      ],
      "metadata": {
        "id": "6u5RJVj1DC6k"
      },
      "execution_count": null,
      "outputs": []
    },
    {
      "cell_type": "code",
      "source": [
        "from tensorflow.keras.preprocessing.image import ImageDataGenerator\n",
        "import os\n",
        "\n",
        "# Define parameters\n",
        "IMG_HEIGHT = 224\n",
        "IMG_WIDTH = 224\n",
        "BATCH_SIZE = 32\n",
        "\n",
        "# Construct the path to the subdirectory containing the class directories\n",
        "# Assuming the actual dataset is in the first subdirectory listed\n",
        "sub_dirs = os.listdir(repo_path)\n",
        "if sub_dirs:\n",
        "    subdirectory_name = sub_dirs[0]\n",
        "    subdirectory_path = os.path.join(repo_path, subdirectory_name)\n",
        "else:\n",
        "    print(\"Error: No subdirectories found in the repository path.\")\n",
        "    subdirectory_path = None # Set to None to prevent further errors\n",
        "\n",
        "if subdirectory_path:\n",
        "    # Augmentation and rescaling\n",
        "    datagen = ImageDataGenerator(\n",
        "        rescale=1./255,\n",
        "        validation_split=0.2,\n",
        "        rotation_range=20,\n",
        "        zoom_range=0.2,\n",
        "        shear_range=0.2,\n",
        "        horizontal_flip=True\n",
        "    )\n",
        "\n",
        "    train_gen = datagen.flow_from_directory(\n",
        "        subdirectory_path, # Point to the subdirectory\n",
        "        target_size=(IMG_HEIGHT, IMG_WIDTH),\n",
        "        batch_size=BATCH_SIZE,\n",
        "        class_mode='categorical',\n",
        "        subset='training'\n",
        "    )\n",
        "\n",
        "    val_gen = datagen.flow_from_directory(\n",
        "        subdirectory_path, # Point to the subdirectory\n",
        "        target_size=(IMG_HEIGHT, IMG_WIDTH),\n",
        "        batch_size=BATCH_SIZE,\n",
        "        class_mode='categorical',\n",
        "        subset='validation'\n",
        "    )\n",
        "else:\n",
        "    train_gen = None\n",
        "    val_gen = None\n",
        "    print(\"Data generators could not be created due to incorrect path.\")"
      ],
      "metadata": {
        "id": "0BZ1KaxeDjBF"
      },
      "execution_count": null,
      "outputs": []
    },
    {
      "cell_type": "code",
      "source": [
        "from tensorflow.keras.applications import EfficientNetB0\n",
        "from tensorflow.keras.models import Sequential\n",
        "from tensorflow.keras.layers import Dense, Dropout, GlobalAveragePooling2D\n",
        "from tensorflow.keras.optimizers import Adam\n",
        "\n",
        "base_model = EfficientNetB0(include_top=False, input_shape=(IMG_HEIGHT, IMG_WIDTH, 3), weights='imagenet')\n",
        "base_model.trainable = False  # Freeze base model\n",
        "\n",
        "model = Sequential([\n",
        "    base_model,\n",
        "    GlobalAveragePooling2D(),\n",
        "    Dropout(0.3),\n",
        "    Dense(128, activation='relu'),\n",
        "    Dropout(0.3),\n",
        "    Dense(train_gen.num_classes, activation='softmax')\n",
        "])\n",
        "\n",
        "model.compile(optimizer=Adam(learning_rate=0.001),\n",
        "              loss='categorical_crossentropy',\n",
        "              metrics=['accuracy'])\n",
        "\n",
        "model.summary()"
      ],
      "metadata": {
        "id": "7vqaOPI0DyWc",
        "colab": {
          "base_uri": "https://localhost:8080/",
          "height": 245
        },
        "outputId": "7d76213a-3668-4771-8180-5152c65de38a"
      },
      "execution_count": 9,
      "outputs": [
        {
          "output_type": "stream",
          "name": "stdout",
          "text": [
            "Downloading data from https://storage.googleapis.com/keras-applications/efficientnetb0_notop.h5\n",
            "\u001b[1m16705208/16705208\u001b[0m \u001b[32m━━━━━━━━━━━━━━━━━━━━\u001b[0m\u001b[37m\u001b[0m \u001b[1m0s\u001b[0m 0us/step\n"
          ]
        },
        {
          "output_type": "error",
          "ename": "NameError",
          "evalue": "name 'train_gen' is not defined",
          "traceback": [
            "\u001b[0;31m---------------------------------------------------------------------------\u001b[0m",
            "\u001b[0;31mNameError\u001b[0m                                 Traceback (most recent call last)",
            "\u001b[0;32m/tmp/ipython-input-9-713114558.py\u001b[0m in \u001b[0;36m<cell line: 0>\u001b[0;34m()\u001b[0m\n\u001b[1;32m     13\u001b[0m     \u001b[0mDense\u001b[0m\u001b[0;34m(\u001b[0m\u001b[0;36m128\u001b[0m\u001b[0;34m,\u001b[0m \u001b[0mactivation\u001b[0m\u001b[0;34m=\u001b[0m\u001b[0;34m'relu'\u001b[0m\u001b[0;34m)\u001b[0m\u001b[0;34m,\u001b[0m\u001b[0;34m\u001b[0m\u001b[0;34m\u001b[0m\u001b[0m\n\u001b[1;32m     14\u001b[0m     \u001b[0mDropout\u001b[0m\u001b[0;34m(\u001b[0m\u001b[0;36m0.3\u001b[0m\u001b[0;34m)\u001b[0m\u001b[0;34m,\u001b[0m\u001b[0;34m\u001b[0m\u001b[0;34m\u001b[0m\u001b[0m\n\u001b[0;32m---> 15\u001b[0;31m     \u001b[0mDense\u001b[0m\u001b[0;34m(\u001b[0m\u001b[0mtrain_gen\u001b[0m\u001b[0;34m.\u001b[0m\u001b[0mnum_classes\u001b[0m\u001b[0;34m,\u001b[0m \u001b[0mactivation\u001b[0m\u001b[0;34m=\u001b[0m\u001b[0;34m'softmax'\u001b[0m\u001b[0;34m)\u001b[0m\u001b[0;34m\u001b[0m\u001b[0;34m\u001b[0m\u001b[0m\n\u001b[0m\u001b[1;32m     16\u001b[0m ])\n\u001b[1;32m     17\u001b[0m \u001b[0;34m\u001b[0m\u001b[0m\n",
            "\u001b[0;31mNameError\u001b[0m: name 'train_gen' is not defined"
          ]
        }
      ]
    },
    {
      "cell_type": "code",
      "source": [
        "\n",
        "EPOCHS = 10\n",
        "\n",
        "history = model.fit(\n",
        "    train_gen,\n",
        "    validation_data=val_gen,\n",
        "    epochs=EPOCHS\n",
        ")"
      ],
      "metadata": {
        "id": "0InPY6GeD-zQ"
      },
      "execution_count": null,
      "outputs": []
    },
    {
      "cell_type": "code",
      "source": [
        "# Plot accuracy/loss curves\n",
        "import matplotlib.pyplot as plt\n",
        "\n",
        "plt.plot(history.history['accuracy'], label='Train Accuracy')\n",
        "plt.plot(history.history['val_accuracy'], label='Val Accuracy')\n",
        "plt.legend()\n",
        "plt.title(\"Accuracy Over Epochs\")\n",
        "plt.show()\n",
        "\n",
        "# Save model\n",
        "model.save(\"tree_species_model.h5\")"
      ],
      "metadata": {
        "id": "K1ZFKIfwIXvF"
      },
      "execution_count": null,
      "outputs": []
    },
    {
      "cell_type": "code",
      "metadata": {
        "id": "d68880d5"
      },
      "source": [
        "import hashlib\n",
        "from collections import defaultdict\n",
        "import os\n",
        "\n",
        "hashes = defaultdict(list)\n",
        "\n",
        "# Construct the path to the subdirectory containing the class directories\n",
        "# Assuming the actual dataset is in the first subdirectory listed\n",
        "sub_dirs = os.listdir(repo_path)\n",
        "if sub_dirs:\n",
        "    subdirectory_name = sub_dirs[0]\n",
        "    subdirectory_path = os.path.join(repo_path, subdirectory_name)\n",
        "\n",
        "    for class_dir in class_dirs:\n",
        "        class_folder_path = os.path.join(subdirectory_path, class_dir)\n",
        "        if os.path.isdir(class_folder_path): # Check if the path is a directory\n",
        "            for img_file in os.listdir(class_folder_path):\n",
        "                img_path = os.path.join(class_folder_path, img_file)\n",
        "                try:\n",
        "                    with open(img_path, 'rb') as f:\n",
        "                        file_hash = hashlib.md5(f.read()).hexdigest()\n",
        "                        hashes[file_hash].append(img_path)\n",
        "                except Exception as e:\n",
        "                    print(f\"Could not process image {img_path}: {e}\")\n",
        "\n",
        "    # Filter duplicates\n",
        "    duplicates = {h: files for h, files in hashes.items() if len(files) > 1}\n",
        "    print(\"Duplicate image sets found:\", len(duplicates))\n",
        "\n",
        "    # Optional: print the paths of duplicate images\n",
        "    # for file_hash, file_paths in duplicates.items():\n",
        "    #     print(f\"Hash: {file_hash}\")\n",
        "    #     for file_path in file_paths:\n",
        "    #         print(f\"- {file_path}\")\n",
        "else:\n",
        "    print(\"No subdirectories found in the repository path.\")"
      ],
      "execution_count": null,
      "outputs": []
    },
    {
      "cell_type": "code",
      "metadata": {
        "id": "3c5f09a6"
      },
      "source": [
        "import matplotlib.pyplot as plt\n",
        "\n",
        "if 'history' in locals():\n",
        "    # Plot accuracy curves\n",
        "    plt.plot(history.history['accuracy'], label='Train Accuracy')\n",
        "    plt.plot(history.history['val_accuracy'], label='Val Accuracy')\n",
        "    plt.legend()\n",
        "    plt.title(\"Accuracy Over Epochs\")\n",
        "    plt.xlabel(\"Epochs\")\n",
        "    plt.ylabel(\"Accuracy\")\n",
        "    plt.show()\n",
        "\n",
        "    # Optionally, plot loss curves as well\n",
        "    # plt.plot(history.history['loss'], label='Train Loss')\n",
        "    # plt.plot(history.history['val_loss'], label='Val Loss')\n",
        "    # plt.legend()\n",
        "    # plt.title(\"Loss Over Epochs\")\n",
        "    # plt.xlabel(\"Epochs\")\n",
        "    # plt.ylabel(\"Loss\")\n",
        "    # plt.show()\n",
        "else:\n",
        "    print(\"Model training history not found. Please train the model first.\")"
      ],
      "execution_count": null,
      "outputs": []
    },
    {
      "cell_type": "code",
      "source": [
        "import tensorflow as tf\n",
        "from tensorflow.keras.models import Sequential\n",
        "from tensorflow.keras.layers import Conv2D, MaxPooling2D, Flatten, Dense, Dropout\n",
        "from tensorflow.keras.preprocessing.image import ImageDataGenerator\n",
        "\n",
        "# Define image properties\n",
        "IMG_HEIGHT = 224\n",
        "IMG_WIDTH = 224\n",
        "BATCH_SIZE = 32\n",
        "repo_path = \"WEEK-2-/Tree_Species_Dataset\" # Ensure repo_path is defined\n",
        "\n",
        "# Data generators\n",
        "datagen = ImageDataGenerator(\n",
        "    rescale=1./255,\n",
        "    validation_split=0.2\n",
        ")\n",
        "\n",
        "train_generator = datagen.flow_from_directory(\n",
        "    repo_path,\n",
        "    target_size=(IMG_HEIGHT, IMG_WIDTH),\n",
        "    batch_size=BATCH_SIZE,\n",
        "    class_mode='categorical',\n",
        "    subset='training'\n",
        ")\n",
        "\n",
        "val_generator = datagen.flow_from_directory(\n",
        "    repo_path,\n",
        "    target_size=(IMG_HEIGHT, IMG_WIDTH),\n",
        "    batch_size=BATCH_SIZE,\n",
        "    class_mode='categorical',\n",
        "    subset='validation'\n",
        ")\n",
        "# Number of output classes\n",
        "num_classes = train_generator.num_classes\n",
        "\n",
        "# Build a basic CNN model\n",
        "model_cnn = Sequential([\n",
        "    Conv2D(32, (3, 3), activation='relu', input_shape=(IMG_HEIGHT, IMG_WIDTH, 3)),\n",
        "    MaxPooling2D(pool_size=(2, 2)),\n",
        "\n",
        "    Conv2D(64, (3, 3), activation='relu'),\n",
        "    MaxPooling2D(pool_size=(2, 2)),\n",
        "\n",
        "    Conv2D(128, (3, 3), activation='relu'),\n",
        "    MaxPooling2D(pool_size=(2, 2)),\n",
        "\n",
        "    Flatten(),\n",
        "    Dense(256, activation='relu'),\n",
        "    Dropout(0.5),\n",
        "    Dense(num_classes, activation='softmax')\n",
        "])\n",
        "\n",
        "model_cnn.compile(\n",
        "    loss='categorical_crossentropy',\n",
        "    optimizer='adam',\n",
        "    metrics=['accuracy']\n",
        ")\n",
        "\n",
        "# Train the model\n",
        "EPOCHS = 10\n",
        "history_cnn = model_cnn.fit(\n",
        "    train_generator,\n",
        "    epochs=EPOCHS,\n",
        "    validation_data=val_generator\n",
        ")\n",
        "\n",
        "# Save the model\n",
        "model_cnn.save('basic_cnn_tree_species.h5')\n",
        "print(\"✅ Basic CNN model saved as 'basic_cnn_tree_species.h5'\")"
      ],
      "metadata": {
        "id": "Vtd0OFkaKd1B"
      },
      "execution_count": null,
      "outputs": []
    },
    {
      "cell_type": "code",
      "source": [
        "import matplotlib.pyplot as plt\n",
        "\n",
        "plt.plot(history_cnn.history['accuracy'], label='Train Accuracy')\n",
        "plt.plot(history_cnn.history['val_accuracy'], label='Validation Accuracy')\n",
        "plt.title(\"Basic CNN Accuracy\")\n",
        "plt.xlabel(\"Epoch\")\n",
        "plt.ylabel(\"Accuracy\")\n",
        "plt.legend()\n",
        "plt.show()"
      ],
      "metadata": {
        "id": "vZgUtkWiPlQH"
      },
      "execution_count": null,
      "outputs": []
    },
    {
      "cell_type": "code",
      "source": [
        "from tensorflow.keras.models import Sequential\n",
        "from tensorflow.keras.layers import Conv2D, MaxPooling2D, Flatten, Dense, Dropout, BatchNormalization\n",
        "from tensorflow.keras.optimizers import Adam\n",
        "from tensorflow.keras.preprocessing.image import ImageDataGenerator # Import ImageDataGenerator\n",
        "import os # Import os\n",
        "\n",
        "# Define parameters (make sure these are defined or accessible)\n",
        "IMG_HEIGHT = 224\n",
        "IMG_WIDTH = 224\n",
        "BATCH_SIZE = 32\n",
        "repo_path = \"WEEK-2-/Tree_Species_Dataset\" # Ensure repo_path is defined\n",
        "\n",
        "# Data Generators (re-created within this cell)\n",
        "datagen = ImageDataGenerator(\n",
        "    rescale=1./255,\n",
        "    validation_split=0.2\n",
        ")\n",
        "\n",
        "train_generator = datagen.flow_from_directory(\n",
        "    repo_path,\n",
        "    target_size=(IMG_HEIGHT, IMG_WIDTH),\n",
        "    batch_size=BATCH_SIZE,\n",
        "    class_mode='categorical',\n",
        "    subset='training'\n",
        ")\n",
        "\n",
        "val_generator = datagen.flow_from_directory(\n",
        "    repo_path,\n",
        "    target_size=(IMG_HEIGHT, IMG_WIDTH),\n",
        "    batch_size=BATCH_SIZE,\n",
        "    class_mode='categorical',\n",
        "    subset='validation'\n",
        ")\n",
        "\n",
        "if train_generator and val_generator:\n",
        "    model = Sequential([\n",
        "        Conv2D(32, (3, 3), activation='relu', input_shape=(IMG_HEIGHT, IMG_WIDTH, 3)),\n",
        "        BatchNormalization(),\n",
        "        MaxPooling2D(2, 2),\n",
        "\n",
        "        Conv2D(64, (3, 3), activation='relu'),\n",
        "        BatchNormalization(),\n",
        "        MaxPooling2D(2, 2),\n",
        "\n",
        "        Conv2D(128, (3, 3), activation='relu'),\n",
        "        BatchNormalization(),\n",
        "        MaxPooling2D(2, 2),\n",
        "\n",
        "        Flatten(),\n",
        "        Dense(256, activation='relu'),\n",
        "        Dropout(0.5),\n",
        "        Dense(train_generator.num_classes, activation='softmax')  # Use train_generator.num_classes\n",
        "    ])\n",
        "\n",
        "    model.compile(optimizer=Adam(learning_rate=1e-4), loss='categorical_crossentropy', metrics=['accuracy'])\n",
        "\n",
        "    print(\"Starting model training...\")\n",
        "    history_improved = model.fit(train_generator, validation_data=val_generator, epochs=25)\n",
        "    print(\"Training finished.\")\n",
        "\n",
        "    model.save(\"improved_cnn_model.h5\")\n",
        "    print(\"✅ Improved CNN model saved as 'improved_cnn_model.h5'\")\n",
        "else:\n",
        "    print(\"Model training skipped due to data generator setup failure.\")"
      ],
      "metadata": {
        "id": "oPB5Mpf3R5bW"
      },
      "execution_count": null,
      "outputs": []
    },
    {
      "cell_type": "code",
      "metadata": {
        "id": "a4a55535"
      },
      "source": [
        "import matplotlib.pyplot as plt\n",
        "\n",
        "plt.figure(figsize=(12, 6))\n",
        "\n",
        "# Plot basic CNN accuracy\n",
        "plt.plot(history_cnn.history['accuracy'], label='Basic CNN Train Accuracy')\n",
        "plt.plot(history_cnn.history['val_accuracy'], label='Basic CNN Validation Accuracy', linestyle='--')\n",
        "\n",
        "# Plot improved CNN accuracy\n",
        "plt.plot(history_improved.history['accuracy'], label='Improved CNN Train Accuracy')\n",
        "plt.plot(history_improved.history['val_accuracy'], label='Improved CNN Validation Accuracy', linestyle='--')\n",
        "\n",
        "plt.title(\"Comparison of CNN Models\")\n",
        "plt.xlabel(\"Epoch\")\n",
        "plt.ylabel(\"Accuracy\")\n",
        "plt.legend()\n",
        "plt.grid(True)\n",
        "plt.show()"
      ],
      "execution_count": null,
      "outputs": []
    },
    {
      "cell_type": "code",
      "metadata": {
        "colab": {
          "base_uri": "https://localhost:8080/",
          "height": 1000
        },
        "id": "7fd79399",
        "outputId": "efa37929-3566-4fa8-ef66-bea1d2c6c6d0"
      },
      "source": [
        "import tensorflow as tf\n",
        "from tensorflow.keras.models import Sequential\n",
        "from tensorflow.keras.layers import Conv2D, MaxPooling2D, Flatten, Dense, Dropout, BatchNormalization\n",
        "from tensorflow.keras.optimizers import Adam\n",
        "from tensorflow.keras.preprocessing.image import ImageDataGenerator\n",
        "import matplotlib.pyplot as plt\n",
        "import os\n",
        "\n",
        "# Define image properties\n",
        "IMG_HEIGHT = 224\n",
        "IMG_WIDTH = 224\n",
        "BATCH_SIZE = 32\n",
        "repo_path = \"WEEK-2-/Tree_Species_Dataset\" # Ensure repo_path is defined\n",
        "\n",
        "# Data generators\n",
        "datagen = ImageDataGenerator(\n",
        "    rescale=1./255,\n",
        "    validation_split=0.2\n",
        ")\n",
        "\n",
        "train_generator = datagen.flow_from_directory(\n",
        "    repo_path,\n",
        "    target_size=(IMG_HEIGHT, IMG_WIDTH),\n",
        "    batch_size=BATCH_SIZE,\n",
        "    class_mode='categorical',\n",
        "    subset='training'\n",
        ")\n",
        "\n",
        "val_generator = datagen.flow_from_directory(\n",
        "    repo_path,\n",
        "    target_size=(IMG_HEIGHT, IMG_WIDTH),\n",
        "    batch_size=BATCH_SIZE,\n",
        "    class_mode='categorical',\n",
        "    subset='validation'\n",
        ")\n",
        "# Number of output classes\n",
        "num_classes = train_generator.num_classes\n",
        "\n",
        "# Build a basic CNN model\n",
        "model_cnn = Sequential([\n",
        "    Conv2D(32, (3, 3), activation='relu', input_shape=(IMG_HEIGHT, IMG_WIDTH, 3)),\n",
        "    MaxPooling2D(pool_size=(2, 2)),\n",
        "\n",
        "    Conv2D(64, (3, 3), activation='relu'),\n",
        "    MaxPooling2D(pool_size=(2, 2)),\n",
        "\n",
        "    Conv2D(128, (3, 3), activation='relu'),\n",
        "    MaxPooling2D(pool_size=(2, 2)),\n",
        "\n",
        "    Flatten(),\n",
        "    Dense(256, activation='relu'),\n",
        "    Dropout(0.5),\n",
        "    Dense(num_classes, activation='softmax')\n",
        "])\n",
        "\n",
        "model_cnn.compile(\n",
        "    loss='categorical_crossentropy',\n",
        "    optimizer='adam',\n",
        "    metrics=['accuracy']\n",
        ")\n",
        "\n",
        "# Train the basic model\n",
        "EPOCHS = 10\n",
        "history_cnn = model_cnn.fit(\n",
        "    train_generator,\n",
        "    epochs=EPOCHS,\n",
        "    validation_data=val_generator\n",
        ")\n",
        "\n",
        "# Build the improved model\n",
        "model_improved = Sequential([\n",
        "    Conv2D(32, (3, 3), activation='relu', input_shape=(IMG_HEIGHT, IMG_WIDTH, 3)),\n",
        "    BatchNormalization(),\n",
        "    MaxPooling2D(2, 2),\n",
        "\n",
        "    Conv2D(64, (3, 3), activation='relu'),\n",
        "    BatchNormalization(),\n",
        "    MaxPooling2D(2, 2),\n",
        "\n",
        "    Conv2D(128, (3, 3), activation='relu'),\n",
        "    BatchNormalization(),\n",
        "    MaxPooling2D(2, 2),\n",
        "\n",
        "    Flatten(),\n",
        "    Dense(256, activation='relu'),\n",
        "    Dropout(0.5),\n",
        "    Dense(train_generator.num_classes, activation='softmax')\n",
        "])\n",
        "\n",
        "model_improved.compile(optimizer=Adam(learning_rate=1e-4), loss='categorical_crossentropy', metrics=['accuracy'])\n",
        "\n",
        "# Train the improved model\n",
        "history_improved = model_improved.fit(train_generator, validation_data=val_generator, epochs=25)\n",
        "\n",
        "\n",
        "# Plot the comparison\n",
        "plt.figure(figsize=(12, 6))\n",
        "\n",
        "# Plot basic CNN accuracy\n",
        "plt.plot(history_cnn.history['accuracy'], label='Basic CNN Train Accuracy')\n",
        "plt.plot(history_cnn.history['val_accuracy'], label='Basic CNN Validation Accuracy', linestyle='--')\n",
        "\n",
        "# Plot improved CNN accuracy\n",
        "plt.plot(history_improved.history['accuracy'], label='Improved CNN Train Accuracy')\n",
        "plt.plot(history_improved.history['val_accuracy'], label='Improved CNN Validation Accuracy', linestyle='--')\n",
        "\n",
        "plt.title(\"Comparison of CNN Models\")\n",
        "plt.xlabel(\"Epoch\")\n",
        "plt.ylabel(\"Accuracy\")\n",
        "plt.legend()\n",
        "plt.grid(True)\n",
        "plt.show()"
      ],
      "execution_count": 8,
      "outputs": [
        {
          "metadata": {
            "tags": null
          },
          "name": "stdout",
          "output_type": "stream",
          "text": [
            "Found 1280 images belonging to 30 classes.\n",
            "Found 320 images belonging to 30 classes.\n"
          ]
        },
        {
          "metadata": {
            "tags": null
          },
          "name": "stderr",
          "output_type": "stream",
          "text": [
            "/usr/local/lib/python3.11/dist-packages/keras/src/layers/convolutional/base_conv.py:107: UserWarning: Do not pass an `input_shape`/`input_dim` argument to a layer. When using Sequential models, prefer using an `Input(shape)` object as the first layer in the model instead.\n",
            "  super().__init__(activity_regularizer=activity_regularizer, **kwargs)\n"
          ]
        },
        {
          "metadata": {
            "tags": null
          },
          "name": "stdout",
          "output_type": "stream",
          "text": [
            "Epoch 1/10\n"
          ]
        },
        {
          "metadata": {
            "tags": null
          },
          "name": "stderr",
          "output_type": "stream",
          "text": [
            "/usr/local/lib/python3.11/dist-packages/keras/src/trainers/data_adapters/py_dataset_adapter.py:121: UserWarning: Your `PyDataset` class should call `super().__init__(**kwargs)` in its constructor. `**kwargs` can include `workers`, `use_multiprocessing`, `max_queue_size`. Do not pass these arguments to `fit()`, as they will be ignored.\n",
            "  self._warn_if_super_not_called()\n"
          ]
        },
        {
          "output_type": "stream",
          "name": "stdout",
          "text": [
            "\u001b[1m40/40\u001b[0m \u001b[32m━━━━━━━━━━━━━━━━━━━━\u001b[0m\u001b[37m\u001b[0m \u001b[1m174s\u001b[0m 4s/step - accuracy: 0.0645 - loss: 3.9135 - val_accuracy: 0.1250 - val_loss: 3.1892\n",
            "Epoch 2/10\n",
            "\u001b[1m40/40\u001b[0m \u001b[32m━━━━━━━━━━━━━━━━━━━━\u001b[0m\u001b[37m\u001b[0m \u001b[1m167s\u001b[0m 4s/step - accuracy: 0.1146 - loss: 3.1612 - val_accuracy: 0.1969 - val_loss: 2.9464\n",
            "Epoch 3/10\n",
            "\u001b[1m40/40\u001b[0m \u001b[32m━━━━━━━━━━━━━━━━━━━━\u001b[0m\u001b[37m\u001b[0m \u001b[1m165s\u001b[0m 4s/step - accuracy: 0.1839 - loss: 2.9252 - val_accuracy: 0.2344 - val_loss: 2.7357\n",
            "Epoch 4/10\n",
            "\u001b[1m40/40\u001b[0m \u001b[32m━━━━━━━━━━━━━━━━━━━━\u001b[0m\u001b[37m\u001b[0m \u001b[1m165s\u001b[0m 4s/step - accuracy: 0.2764 - loss: 2.6400 - val_accuracy: 0.3063 - val_loss: 2.5255\n",
            "Epoch 5/10\n",
            "\u001b[1m40/40\u001b[0m \u001b[32m━━━━━━━━━━━━━━━━━━━━\u001b[0m\u001b[37m\u001b[0m \u001b[1m204s\u001b[0m 4s/step - accuracy: 0.3871 - loss: 2.2215 - val_accuracy: 0.3500 - val_loss: 2.5013\n",
            "Epoch 6/10\n",
            "\u001b[1m40/40\u001b[0m \u001b[32m━━━━━━━━━━━━━━━━━━━━\u001b[0m\u001b[37m\u001b[0m \u001b[1m165s\u001b[0m 4s/step - accuracy: 0.5047 - loss: 1.7552 - val_accuracy: 0.4094 - val_loss: 2.2425\n",
            "Epoch 7/10\n",
            "\u001b[1m40/40\u001b[0m \u001b[32m━━━━━━━━━━━━━━━━━━━━\u001b[0m\u001b[37m\u001b[0m \u001b[1m168s\u001b[0m 4s/step - accuracy: 0.6950 - loss: 1.1226 - val_accuracy: 0.3844 - val_loss: 2.4052\n",
            "Epoch 8/10\n",
            "\u001b[1m40/40\u001b[0m \u001b[32m━━━━━━━━━━━━━━━━━━━━\u001b[0m\u001b[37m\u001b[0m \u001b[1m167s\u001b[0m 4s/step - accuracy: 0.7870 - loss: 0.8286 - val_accuracy: 0.3969 - val_loss: 2.5995\n",
            "Epoch 9/10\n",
            "\u001b[1m40/40\u001b[0m \u001b[32m━━━━━━━━━━━━━━━━━━━━\u001b[0m\u001b[37m\u001b[0m \u001b[1m166s\u001b[0m 4s/step - accuracy: 0.8570 - loss: 0.4761 - val_accuracy: 0.3906 - val_loss: 2.7505\n",
            "Epoch 10/10\n",
            "\u001b[1m40/40\u001b[0m \u001b[32m━━━━━━━━━━━━━━━━━━━━\u001b[0m\u001b[37m\u001b[0m \u001b[1m167s\u001b[0m 4s/step - accuracy: 0.9305 - loss: 0.2682 - val_accuracy: 0.3875 - val_loss: 3.1912\n",
            "Epoch 1/25\n",
            "\u001b[1m40/40\u001b[0m \u001b[32m━━━━━━━━━━━━━━━━━━━━\u001b[0m\u001b[37m\u001b[0m \u001b[1m254s\u001b[0m 6s/step - accuracy: 0.0764 - loss: 5.2345 - val_accuracy: 0.0344 - val_loss: 6.5373\n",
            "Epoch 2/25\n",
            "\u001b[1m40/40\u001b[0m \u001b[32m━━━━━━━━━━━━━━━━━━━━\u001b[0m\u001b[37m\u001b[0m \u001b[1m256s\u001b[0m 6s/step - accuracy: 0.1776 - loss: 2.8535 - val_accuracy: 0.0437 - val_loss: 11.2724\n",
            "Epoch 3/25\n",
            "\u001b[1m40/40\u001b[0m \u001b[32m━━━━━━━━━━━━━━━━━━━━\u001b[0m\u001b[37m\u001b[0m \u001b[1m263s\u001b[0m 7s/step - accuracy: 0.2431 - loss: 2.6473 - val_accuracy: 0.0406 - val_loss: 14.7232\n",
            "Epoch 4/25\n",
            "\u001b[1m40/40\u001b[0m \u001b[32m━━━━━━━━━━━━━━━━━━━━\u001b[0m\u001b[37m\u001b[0m \u001b[1m271s\u001b[0m 7s/step - accuracy: 0.2781 - loss: 2.4205 - val_accuracy: 0.0594 - val_loss: 17.0269\n",
            "Epoch 5/25\n",
            "\u001b[1m40/40\u001b[0m \u001b[32m━━━━━━━━━━━━━━━━━━━━\u001b[0m\u001b[37m\u001b[0m \u001b[1m237s\u001b[0m 6s/step - accuracy: 0.3569 - loss: 2.2117 - val_accuracy: 0.0562 - val_loss: 17.3729\n",
            "Epoch 6/25\n",
            "\u001b[1m40/40\u001b[0m \u001b[32m━━━━━━━━━━━━━━━━━━━━\u001b[0m\u001b[37m\u001b[0m \u001b[1m246s\u001b[0m 6s/step - accuracy: 0.4126 - loss: 2.0203 - val_accuracy: 0.0750 - val_loss: 14.8413\n",
            "Epoch 7/25\n",
            "\u001b[1m40/40\u001b[0m \u001b[32m━━━━━━━━━━━━━━━━━━━━\u001b[0m\u001b[37m\u001b[0m \u001b[1m268s\u001b[0m 7s/step - accuracy: 0.4430 - loss: 1.8083 - val_accuracy: 0.0688 - val_loss: 12.9041\n",
            "Epoch 8/25\n",
            "\u001b[1m40/40\u001b[0m \u001b[32m━━━━━━━━━━━━━━━━━━━━\u001b[0m\u001b[37m\u001b[0m \u001b[1m263s\u001b[0m 7s/step - accuracy: 0.4900 - loss: 1.6534 - val_accuracy: 0.0781 - val_loss: 10.7937\n",
            "Epoch 9/25\n",
            "\u001b[1m40/40\u001b[0m \u001b[32m━━━━━━━━━━━━━━━━━━━━\u001b[0m\u001b[37m\u001b[0m \u001b[1m279s\u001b[0m 7s/step - accuracy: 0.4886 - loss: 1.6135 - val_accuracy: 0.1500 - val_loss: 7.1342\n",
            "Epoch 10/25\n",
            "\u001b[1m40/40\u001b[0m \u001b[32m━━━━━━━━━━━━━━━━━━━━\u001b[0m\u001b[37m\u001b[0m \u001b[1m323s\u001b[0m 7s/step - accuracy: 0.5511 - loss: 1.4044 - val_accuracy: 0.2125 - val_loss: 5.0927\n",
            "Epoch 11/25\n",
            "\u001b[1m40/40\u001b[0m \u001b[32m━━━━━━━━━━━━━━━━━━━━\u001b[0m\u001b[37m\u001b[0m \u001b[1m273s\u001b[0m 7s/step - accuracy: 0.6030 - loss: 1.2882 - val_accuracy: 0.2656 - val_loss: 3.8290\n",
            "Epoch 12/25\n",
            "\u001b[1m40/40\u001b[0m \u001b[32m━━━━━━━━━━━━━━━━━━━━\u001b[0m\u001b[37m\u001b[0m \u001b[1m308s\u001b[0m 6s/step - accuracy: 0.6318 - loss: 1.1167 - val_accuracy: 0.3219 - val_loss: 3.4056\n",
            "Epoch 13/25\n",
            "\u001b[1m40/40\u001b[0m \u001b[32m━━━━━━━━━━━━━━━━━━━━\u001b[0m\u001b[37m\u001b[0m \u001b[1m262s\u001b[0m 7s/step - accuracy: 0.6210 - loss: 1.1558 - val_accuracy: 0.3219 - val_loss: 3.1741\n",
            "Epoch 14/25\n",
            "\u001b[1m40/40\u001b[0m \u001b[32m━━━━━━━━━━━━━━━━━━━━\u001b[0m\u001b[37m\u001b[0m \u001b[1m235s\u001b[0m 6s/step - accuracy: 0.6592 - loss: 0.9715 - val_accuracy: 0.3469 - val_loss: 3.0247\n",
            "Epoch 15/25\n",
            "\u001b[1m40/40\u001b[0m \u001b[32m━━━━━━━━━━━━━━━━━━━━\u001b[0m\u001b[37m\u001b[0m \u001b[1m259s\u001b[0m 7s/step - accuracy: 0.7037 - loss: 0.8973 - val_accuracy: 0.3562 - val_loss: 2.9072\n",
            "Epoch 16/25\n",
            "\u001b[1m40/40\u001b[0m \u001b[32m━━━━━━━━━━━━━━━━━━━━\u001b[0m\u001b[37m\u001b[0m \u001b[1m274s\u001b[0m 7s/step - accuracy: 0.7047 - loss: 0.9515 - val_accuracy: 0.3844 - val_loss: 2.8452\n",
            "Epoch 17/25\n",
            "\u001b[1m40/40\u001b[0m \u001b[32m━━━━━━━━━━━━━━━━━━━━\u001b[0m\u001b[37m\u001b[0m \u001b[1m265s\u001b[0m 7s/step - accuracy: 0.7266 - loss: 0.8034 - val_accuracy: 0.4031 - val_loss: 2.7356\n",
            "Epoch 18/25\n",
            "\u001b[1m40/40\u001b[0m \u001b[32m━━━━━━━━━━━━━━━━━━━━\u001b[0m\u001b[37m\u001b[0m \u001b[1m311s\u001b[0m 6s/step - accuracy: 0.7482 - loss: 0.7255 - val_accuracy: 0.4062 - val_loss: 2.8152\n",
            "Epoch 19/25\n",
            "\u001b[1m40/40\u001b[0m \u001b[32m━━━━━━━━━━━━━━━━━━━━\u001b[0m\u001b[37m\u001b[0m \u001b[1m231s\u001b[0m 6s/step - accuracy: 0.7705 - loss: 0.6298 - val_accuracy: 0.3812 - val_loss: 2.6263\n",
            "Epoch 20/25\n",
            "\u001b[1m40/40\u001b[0m \u001b[32m━━━━━━━━━━━━━━━━━━━━\u001b[0m\u001b[37m\u001b[0m \u001b[1m240s\u001b[0m 6s/step - accuracy: 0.7860 - loss: 0.6161 - val_accuracy: 0.3938 - val_loss: 2.6741\n",
            "Epoch 21/25\n",
            "\u001b[1m40/40\u001b[0m \u001b[32m━━━━━━━━━━━━━━━━━━━━\u001b[0m\u001b[37m\u001b[0m \u001b[1m231s\u001b[0m 6s/step - accuracy: 0.8023 - loss: 0.6105 - val_accuracy: 0.4031 - val_loss: 2.7455\n",
            "Epoch 22/25\n",
            "\u001b[1m40/40\u001b[0m \u001b[32m━━━━━━━━━━━━━━━━━━━━\u001b[0m\u001b[37m\u001b[0m \u001b[1m242s\u001b[0m 6s/step - accuracy: 0.8366 - loss: 0.5042 - val_accuracy: 0.3781 - val_loss: 2.9272\n",
            "Epoch 23/25\n",
            "\u001b[1m40/40\u001b[0m \u001b[32m━━━━━━━━━━━━━━━━━━━━\u001b[0m\u001b[37m\u001b[0m \u001b[1m246s\u001b[0m 6s/step - accuracy: 0.8309 - loss: 0.5362 - val_accuracy: 0.4062 - val_loss: 2.6422\n",
            "Epoch 24/25\n",
            "\u001b[1m40/40\u001b[0m \u001b[32m━━━━━━━━━━━━━━━━━━━━\u001b[0m\u001b[37m\u001b[0m \u001b[1m247s\u001b[0m 6s/step - accuracy: 0.8120 - loss: 0.5243 - val_accuracy: 0.3906 - val_loss: 2.8665\n",
            "Epoch 25/25\n",
            "\u001b[1m40/40\u001b[0m \u001b[32m━━━━━━━━━━━━━━━━━━━━\u001b[0m\u001b[37m\u001b[0m \u001b[1m246s\u001b[0m 6s/step - accuracy: 0.8333 - loss: 0.4952 - val_accuracy: 0.3875 - val_loss: 2.8411\n"
          ]
        },
        {
          "output_type": "display_data",
          "data": {
            "text/plain": [
              "<Figure size 1200x600 with 1 Axes>"
            ],
            "image/png": "[encoded data removed]"
          },
          "metadata": {}
        }
      ]
    }
  ]
}